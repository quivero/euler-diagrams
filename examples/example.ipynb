{
 "cells": [
  {
   "cell_type": "code",
   "execution_count": null,
   "metadata": {},
   "outputs": [
    {
     "ename": "",
     "evalue": "",
     "output_type": "error",
     "traceback": [
      "\u001b[1;31mFailed to start the Kernel. \n",
      "\u001b[1;31mKernel Python 3.9.16 is not usable. Check the Jupyter output tab for more information. \n",
      "\u001b[1;31mView Jupyter <a href='command:jupyter.viewOutput'>log</a> for further details."
     ]
    }
   ],
   "source": [
    "#!/usr/bin/env python\n",
    "import eule\n",
    "\n",
    "set = {'a': [1, 2, 3], 'b': [2, 3, 4], 'c': [3, 4, 5], 'd': [3, 5, 6]}\n",
    "\n",
    "diagram = eule.spread_euler(set)\n",
    "\n",
    "# Euler dictionary:\n",
    "#   {\n",
    "#       'a,b': [2],\n",
    "#       'b,c': [4],\n",
    "#       'a,b,c,d': [3],\n",
    "#       'c,d': [5],\n",
    "#       'd': [6],\n",
    "#       'a': [1]\n",
    "#   }\n",
    "print(diagram)\n"
   ]
  },
  {
   "cell_type": "code",
   "execution_count": null,
   "id": "e3d9af4e",
   "metadata": {},
   "outputs": [],
   "source": []
  }
 ],
 "metadata": {
  "kernelspec": {
   "display_name": "Python 3",
   "language": "python",
   "name": "python3"
  },
  "language_info": {
   "name": "python",
   "version": "3.9.16"
  },
  "vscode": {
   "interpreter": {
    "hash": "f9f85f796d01129d0dd105a088854619f454435301f6ffec2fea96ecbd9be4ac"
   }
  }
 },
 "nbformat": 4,
 "nbformat_minor": 5
}
